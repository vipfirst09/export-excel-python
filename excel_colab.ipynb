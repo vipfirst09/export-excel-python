import pandas as pd
from google.colab import files  # นำเข้าไฟล์โมดูล

# ข้อมูลที่ต้องการ
data = ['3550408899',
 '6845629235',
 '8815513461',
 '3949734827',
 '2172787474',
 '4870408591',
 '1685178524',
 '9847178708',
 '1916219740',
 '7615907954']

# แปลงเป็น DataFrame
df = pd.DataFrame(data)

# กำหนดชื่อไฟล์ที่ต้องการดาวน์โหลด
output_path = "/content/output_data.xlsx"

# บันทึกเป็นไฟล์ Excel โดยไม่ใช้ชื่อคอลัมน์
df.to_excel(output_path, index=False, header=False)

# ดาวน์โหลดไฟล์ไปยังเครื่องคอมพิวเตอร์ของผู้ใช้
files.download(output_path)
