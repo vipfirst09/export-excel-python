import random

# ฟังก์ชันสำหรับสร้างเลข 10 หลัก
def generate_10_digit_numbers(n):
    return [str(random.randint(1000000000, 9999999999)) for _ in range(n)]

# สร้างเลข 10 หลัก 10 ตัว
generate_10_digit_numbers(10)
